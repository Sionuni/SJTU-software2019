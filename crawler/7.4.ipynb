{
 "cells": [
  {
   "cell_type": "code",
   "execution_count": 2,
   "metadata": {},
   "outputs": [
    {
     "name": "stdout",
     "output_type": "stream",
     "text": [
      "Name =  BAIDUID\n",
      "Value =  6BBCD9FD80C1F173BEEDDCE38FF4741F:FG=1\n",
      "Name =  BIDUPSID\n",
      "Value =  6BBCD9FD80C1F173BEEDDCE38FF4741F\n",
      "Name =  H_PS_PSSID\n",
      "Value =  26522_1422_21102_29135_29238_28518_29099_28834_29220_29440_22160\n",
      "Name =  PSTM\n",
      "Value =  1562230378\n",
      "Name =  delPer\n",
      "Value =  0\n",
      "Name =  BDSVRTM\n",
      "Value =  0\n",
      "Name =  BD_HOME\n",
      "Value =  0\n"
     ]
    }
   ],
   "source": [
    "import urllib\n",
    "import http.cookiejar\n",
    "\n",
    "cookie=http.cookiejar.CookieJar()\n",
    "handler=urllib.request.HTTPCookieProcessor(cookie)\n",
    "opener=urllib.request.build_opener(handler)\n",
    "response=opener.open(\"http://www.baidu.com\")\n",
    "\n",
    "for item in cookie:\n",
    "\tprint('Name = ',item.name)\n",
    "\tprint('Value = ',item.value)"
   ]
  },
  {
   "cell_type": "code",
   "execution_count": null,
   "metadata": {},
   "outputs": [],
   "source": []
  }
 ],
 "metadata": {
  "kernelspec": {
   "display_name": "Python 3",
   "language": "python",
   "name": "python3"
  },
  "language_info": {
   "codemirror_mode": {
    "name": "ipython",
    "version": 3
   },
   "file_extension": ".py",
   "mimetype": "text/x-python",
   "name": "python",
   "nbconvert_exporter": "python",
   "pygments_lexer": "ipython3",
   "version": "3.6.5"
  }
 },
 "nbformat": 4,
 "nbformat_minor": 2
}
