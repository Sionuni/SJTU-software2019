{
 "cells": [
  {
   "cell_type": "code",
   "execution_count": 1,
   "metadata": {},
   "outputs": [],
   "source": [
    "import urllib\n",
    "import http.cookiejar\n",
    "\n",
    "filename='cookie.txt'\n",
    "cookie=http.cookiejar.MozillaCookieJar(filename)\n",
    "handler=urllib.request.HTTPCookieProcessor(cookie)\n",
    "opener=urllib.request.build_opener(handler)\n",
    "reponse=opener.open(\"http://www.baidu.com\")\n",
    "cookie.save()"
   ]
  },
  {
   "cell_type": "code",
   "execution_count": null,
   "metadata": {},
   "outputs": [],
   "source": [
    "import http.cookiejar\n",
    "import urllib\n",
    "\n",
    "cookie=http.cookiejar.MozillaCookieJar()\n",
    "cookie.load('cookie.txt')\n",
    "req=urllib.request.Request(\"http://www.baidu.com\")\n",
    "opener=urllib.request.build_opener()\n",
    "\n"
   ]
  },
  {
   "cell_type": "code",
   "execution_count": null,
   "metadata": {},
   "outputs": [],
   "source": []
  }
 ],
 "metadata": {
  "kernelspec": {
   "display_name": "Python 3",
   "language": "python",
   "name": "python3"
  },
  "language_info": {
   "codemirror_mode": {
    "name": "ipython",
    "version": 3
   },
   "file_extension": ".py",
   "mimetype": "text/x-python",
   "name": "python",
   "nbconvert_exporter": "python",
   "pygments_lexer": "ipython3",
   "version": "3.6.5"
  }
 },
 "nbformat": 4,
 "nbformat_minor": 2
}
