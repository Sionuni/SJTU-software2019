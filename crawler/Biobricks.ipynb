{
 "cells": [
  {
   "cell_type": "code",
   "execution_count": 101,
   "metadata": {},
   "outputs": [
    {
     "name": "stdout",
     "output_type": "stream",
     "text": [
      "946\n"
     ]
    }
   ],
   "source": [
    "f1 = open('result')\n",
    "name = []\n",
    "for i in f1.readlines():\n",
    "    name.append(i[:-1:])\n",
    "print(len(name))"
   ]
  },
  {
   "cell_type": "code",
   "execution_count": 106,
   "metadata": {},
   "outputs": [
    {
     "name": "stdout",
     "output_type": "stream",
     "text": [
      "530\n"
     ]
    }
   ],
   "source": [
    "import re\n",
    "\n",
    "f2 = open('out')\n",
    "f_out = open('temp', 'w')\n",
    "result = []\n",
    "for i in f2.readlines():\n",
    "    match = re.match(r'(.*?)\\t(.*?)\\t(.*?)\\t(.*?)', i, re.M|re.I)\n",
    "    result.append(match[3])\n",
    "    f_out.write(match[3])\n",
    "    f_out.write('\\n')\n",
    "f_out.close()    \n",
    "print(len(result))"
   ]
  },
  {
   "cell_type": "code",
   "execution_count": 46,
   "metadata": {},
   "outputs": [
    {
     "name": "stdout",
     "output_type": "stream",
     "text": [
      "529\n"
     ]
    }
   ],
   "source": [
    "temp = []\n",
    "for i in result:\n",
    "    if (i not in temp):\n",
    "        temp.append(i)\n",
    "print(len(temp))"
   ]
  },
  {
   "cell_type": "code",
   "execution_count": 167,
   "metadata": {},
   "outputs": [
    {
     "name": "stdout",
     "output_type": "stream",
     "text": [
      "415\n"
     ]
    }
   ],
   "source": [
    "out = []\n",
    "\n",
    "f_extra = open('extra', 'w')\n",
    "for i in name:\n",
    "    if (i not in result):\n",
    "        out.append(i)\n",
    "        f_extra.write(i)\n",
    "        f_extra.write('\\n')\n",
    "f_extra.close()\n",
    "print(len(out))"
   ]
  },
  {
   "cell_type": "code",
   "execution_count": 168,
   "metadata": {},
   "outputs": [],
   "source": [
    "rest = []"
   ]
  },
  {
   "cell_type": "code",
   "execution_count": 169,
   "metadata": {},
   "outputs": [],
   "source": [
    "import re\n",
    "f_temp = open('dna.sql')\n",
    "f_dna = open('f_dna.sql', 'w')\n",
    "for i in f_temp.readlines():\n",
    "    match = re.match(r'(.*?),(.*?),(.*?)', i)\n",
    "    #print(match[2])\n",
    "    temp = match[2][1:-1:]\n",
    "    if temp in out:\n",
    "        rest.append(temp)\n",
    "        f_dna.write(i)\n",
    "f_temp.close()\n",
    "f_dna.close()\n",
    "        "
   ]
  },
  {
   "cell_type": "code",
   "execution_count": 170,
   "metadata": {},
   "outputs": [],
   "source": [
    "import re\n",
    "f_temp = open('prbs.sql')\n",
    "f_ = open('f_prbs.sql', 'w')\n",
    "for i in f_temp.readlines():\n",
    "    match = re.match(r'(.*?),(.*?),(.*?)', i)\n",
    "    #print(match[2])\n",
    "    temp = match[2][1:-1:]\n",
    "    if temp in out:\n",
    "        rest.append(temp)\n",
    "        f_.write(i)\n",
    "f_temp.close()\n",
    "f_.close()"
   ]
  },
  {
   "cell_type": "code",
   "execution_count": 171,
   "metadata": {},
   "outputs": [],
   "source": [
    "import re\n",
    "f_temp = open('protein_domains.sql')\n",
    "f_ = open('f_protein_domains.sql', 'w')\n",
    "for i in f_temp.readlines():\n",
    "    match = re.match(r'(.*?),(.*?),(.*?)', i)\n",
    "    #print(match[2])\n",
    "    temp = match[2][1:-1:]\n",
    "    if temp in out:\n",
    "        rest.append(temp)\n",
    "        f_.write(i)\n",
    "f_temp.close()\n",
    "f_.close()"
   ]
  },
  {
   "cell_type": "code",
   "execution_count": 172,
   "metadata": {},
   "outputs": [],
   "source": [
    "import re\n",
    "f_temp = open('terminators.sql')\n",
    "f_ = open('f_terminators.sql', 'w')\n",
    "for i in f_temp.readlines():\n",
    "    match = re.match(r'(.*?),(.*?),(.*?)', i)\n",
    "    #print(match[2])\n",
    "    temp = match[2][1:-1:]\n",
    "    #print(temp)\n",
    "    if temp in out:\n",
    "        rest.append(temp)\n",
    "        f_.write(i)\n",
    "f_temp.close()\n",
    "f_.close()"
   ]
  },
  {
   "cell_type": "code",
   "execution_count": 173,
   "metadata": {},
   "outputs": [],
   "source": [
    "import re\n",
    "f_temp = open('promoter.sql')\n",
    "f_ = open('f_promoter.sql', 'w')\n",
    "for i in f_temp.readlines():\n",
    "    match = re.match(r'(.*?),(.*?),(.*?)', i)\n",
    "    #print(match[2])\n",
    "    temp = match[2][1:-1:]\n",
    "    #print(temp)\n",
    "    if temp in out:\n",
    "        rest.append(temp)\n",
    "        f_.write(i)\n",
    "f_temp.close()\n",
    "f_.close()"
   ]
  },
  {
   "cell_type": "code",
   "execution_count": 174,
   "metadata": {},
   "outputs": [],
   "source": [
    "import re\n",
    "f_temp = open('reporters.sql')\n",
    "f_ = open('f_reporters.sql', 'w')\n",
    "for i in f_temp.readlines():\n",
    "    match = re.match(r'(.*?),(.*?),(.*?)', i)\n",
    "    #print(match[2])\n",
    "    temp = match[2][1:-1:]\n",
    "    #print(temp)\n",
    "    if temp in out:\n",
    "        rest.append(temp)\n",
    "        f_.write(i)\n",
    "f_temp.close()\n",
    "f_.close()"
   ]
  },
  {
   "cell_type": "code",
   "execution_count": 175,
   "metadata": {},
   "outputs": [],
   "source": [
    "import re\n",
    "f_temp = open('protein_coding_sequences.sql')\n",
    "f_ = open('f_protein_coding_sequences.sql', 'w')\n",
    "for i in f_temp.readlines():\n",
    "    match = re.match(r'(.*?),(.*?),(.*?)', i)\n",
    "    #print(match[2])\n",
    "    temp = match[2][1:-1:]\n",
    "    #print(temp)\n",
    "    if temp in out:\n",
    "        rest.append(temp)\n",
    "        f_.write(i)\n",
    "f_temp.close()\n",
    "f_.close()"
   ]
  },
  {
   "cell_type": "code",
   "execution_count": 176,
   "metadata": {},
   "outputs": [],
   "source": [
    "import re\n",
    "f_temp = open('composite_parts.sql')\n",
    "f_ = open('f_composite_parts.sql', 'w')\n",
    "for i in f_temp.readlines():\n",
    "    match = re.match(r'(.*?),(.*?),(.*?)', i)\n",
    "    #print(match[2])\n",
    "    temp = match[2][1:-1:]\n",
    "    #print(temp)\n",
    "    if temp in out:\n",
    "        rest.append(temp)\n",
    "        f_.write(i)\n",
    "f_temp.close()\n",
    "f_.close()"
   ]
  },
  {
   "cell_type": "code",
   "execution_count": 177,
   "metadata": {},
   "outputs": [
    {
     "name": "stdout",
     "output_type": "stream",
     "text": [
      "['BBa_K1199016', 'BBa_K809010', 'BBa_K809011', 'BBa_P10000', 'BBa_P10003', 'BBa_P10401', 'BBa_K1484104', 'BBa_K1484105', 'BBa_B0010', 'BBa_J61048', 'BBa_K1159307', 'BBa_K1618037', 'BBa_K1323014', 'BBa_K1484214', 'BBa_K1484319', 'BBa_K1484320', 'BBa_K1484321', 'BBa_K1484322', 'BBa_K1484323', 'BBa_K1484324', 'BBa_K1484325', 'BBa_K1484327', 'BBa_K1484328', 'BBa_K1484329', 'BBa_K1484330', 'BBa_K1484331', 'BBa_K1484332', 'BBa_K1484333', 'BBa_K1484334', 'BBa_K1484336', 'BBa_K1484337', 'BBa_K1484338', 'BBa_K1484339', 'BBa_K1484340', 'BBa_K1484341', 'BBa_K1484342', 'BBa_K1484343', 'BBa_K1484344', 'BBa_K1484345', 'BBa_K1484346', 'BBa_K1484347', 'BBa_K2036002', 'BBa_K809003', 'BBa_K809007', 'BBa_K809402', 'BBa_K809403', 'BBa_K809601', 'BBa_K809606', 'BBa_K1165001', 'BBa_K809301', 'BBa_K809302', 'BBa_K809303', 'BBa_K809304', 'BBa_K809305', 'BBa_K809306', 'BBa_K809313', 'BBa_K809314', 'BBa_K809315', 'BBa_K809316', 'BBa_K809317', 'BBa_K809318', 'BBa_K1132009', 'BBa_K1165006', 'BBa_K1165007', 'BBa_K1165008', 'BBa_K1165016', 'BBa_K1199046', 'BBa_K1484000', 'BBa_K1484001', 'BBa_K1484002', 'BBa_K1484101', 'BBa_K1484102', 'BBa_K1484103', 'BBa_K1484106', 'BBa_K1484115', 'BBa_K1554001', 'BBa_K1592001', 'BBa_K1891000', 'BBa_K1891001', 'BBa_K1891003', 'BBa_K1891004', 'BBa_K1891005', 'BBa_K1959002', 'BBa_K2036000', 'BBa_K2036001', 'BBa_K2036003', 'BBa_K2036004', 'BBa_K2036005', 'BBa_K2036006', 'BBa_K2255013', 'BBa_K2255015', 'BBa_K2288000', 'BBa_K2288001', 'BBa_K2486117', 'BBa_K538004', 'BBa_K592009', 'BBa_K592012', 'BBa_K797006', 'BBa_K809106', 'BBa_K809107', 'BBa_K809108', 'BBa_K809208', 'BBa_K809209', 'BBa_K809308', 'BBa_K809309', 'BBa_K809310', 'BBa_K809311', 'BBa_K809312', 'BBa_K809319', 'BBa_K809320', 'BBa_K809321', 'BBa_K809322', 'BBa_K809323', 'BBa_K809324', 'BBa_K809325', 'BBa_K809326', 'BBa_K809327', 'BBa_K809328', 'BBa_K809329', 'BBa_K809331', 'BBa_K809401', 'BBa_K809501', 'BBa_K809502', 'BBa_K809503', 'BBa_K809504', 'BBa_K809602', 'BBa_K809603', 'BBa_K809604', 'BBa_K809605', 'BBa_K809607', 'BBa_K809701', 'BBa_K809702', 'BBa_K809703', 'BBa_K809704', 'BBa_K809711', 'BBa_K809712', 'BBa_K809713', 'BBa_K809714', 'BBa_K809715', 'BBa_K809716', 'BBa_K809717', 'BBa_K809718', 'BBa_K809719', 'BBa_K809720', 'BBa_K809721', 'BBa_K809722', 'BBa_K809723', 'BBa_K809724', 'BBa_K1323002', 'BBa_K1891002', 'BBa_K1891014', 'BBa_K1891015', 'BBa_K2036010', 'BBa_K2036011', 'BBa_K2036012', 'BBa_K2036017', 'BBa_K2036018', 'BBa_K2036019', 'BBa_K2036020', 'BBa_K2036021', 'BBa_K2036022', 'BBa_K2036023', 'BBa_K2036024', 'BBa_K2036025', 'BBa_K2036026', 'BBa_K2036027', 'BBa_K2036028', 'BBa_K2036029', 'BBa_K2036030', 'BBa_K2036031', 'BBa_K2036032', 'BBa_K2036033', 'BBa_K809101', 'BBa_K809102', 'BBa_K809103', 'BBa_K809104', 'BBa_K809105']\n"
     ]
    }
   ],
   "source": [
    "print(rest)"
   ]
  },
  {
   "cell_type": "code",
   "execution_count": 180,
   "metadata": {},
   "outputs": [
    {
     "name": "stdout",
     "output_type": "stream",
     "text": [
      "177\n",
      "238\n"
     ]
    }
   ],
   "source": [
    "print(len(rest))\n",
    "new = []\n",
    "for i in out:\n",
    "    if (i not in rest):\n",
    "        new.append(i)\n",
    "        \n",
    "\n",
    "        print(len(new))"
   ]
  },
  {
   "cell_type": "code",
   "execution_count": 189,
   "metadata": {},
   "outputs": [
    {
     "name": "stdout",
     "output_type": "stream",
     "text": [
      "['BBa_K1199016', 'BBa_K809010', 'BBa_K809011', 'BBa_P10000', 'BBa_P10003', 'BBa_P10401', 'BBa_K1484104', 'BBa_K1484105', 'BBa_B0010', 'BBa_J61048', 'BBa_K1159307', 'BBa_K1618037', 'BBa_K1323014', 'BBa_K1484214', 'BBa_K1484319', 'BBa_K1484320', 'BBa_K1484321', 'BBa_K1484322', 'BBa_K1484323', 'BBa_K1484324', 'BBa_K1484325', 'BBa_K1484327', 'BBa_K1484328', 'BBa_K1484329', 'BBa_K1484330', 'BBa_K1484331', 'BBa_K1484332', 'BBa_K1484333', 'BBa_K1484334', 'BBa_K1484336', 'BBa_K1484337', 'BBa_K1484338', 'BBa_K1484339', 'BBa_K1484340', 'BBa_K1484341', 'BBa_K1484342', 'BBa_K1484343', 'BBa_K1484344', 'BBa_K1484345', 'BBa_K1484346', 'BBa_K1484347', 'BBa_K2036002', 'BBa_K809003', 'BBa_K809007', 'BBa_K809402', 'BBa_K809403', 'BBa_K809601', 'BBa_K809606', 'BBa_K1165001', 'BBa_K809301', 'BBa_K809302', 'BBa_K809303', 'BBa_K809304', 'BBa_K809305', 'BBa_K809306', 'BBa_K809313', 'BBa_K809314', 'BBa_K809315', 'BBa_K809316', 'BBa_K809317', 'BBa_K809318', 'BBa_K1132009', 'BBa_K1165006', 'BBa_K1165007', 'BBa_K1165008', 'BBa_K1165016', 'BBa_K1199046', 'BBa_K1484000', 'BBa_K1484001', 'BBa_K1484002', 'BBa_K1484101', 'BBa_K1484102', 'BBa_K1484103', 'BBa_K1484106', 'BBa_K1484115', 'BBa_K1554001', 'BBa_K1592001', 'BBa_K1891000', 'BBa_K1891001', 'BBa_K1891003', 'BBa_K1891004', 'BBa_K1891005', 'BBa_K1959002', 'BBa_K2036000', 'BBa_K2036001', 'BBa_K2036003', 'BBa_K2036004', 'BBa_K2036005', 'BBa_K2036006', 'BBa_K2255013', 'BBa_K2255015', 'BBa_K2288000', 'BBa_K2288001', 'BBa_K2486117', 'BBa_K538004', 'BBa_K592009', 'BBa_K592012', 'BBa_K797006', 'BBa_K809106', 'BBa_K809107', 'BBa_K809108', 'BBa_K809208', 'BBa_K809209', 'BBa_K809308', 'BBa_K809309', 'BBa_K809310', 'BBa_K809311', 'BBa_K809312', 'BBa_K809319', 'BBa_K809320', 'BBa_K809321', 'BBa_K809322', 'BBa_K809323', 'BBa_K809324', 'BBa_K809325', 'BBa_K809326', 'BBa_K809327', 'BBa_K809328', 'BBa_K809329', 'BBa_K809331', 'BBa_K809401', 'BBa_K809501', 'BBa_K809502', 'BBa_K809503', 'BBa_K809504', 'BBa_K809602', 'BBa_K809603', 'BBa_K809604', 'BBa_K809605', 'BBa_K809607', 'BBa_K809701', 'BBa_K809702', 'BBa_K809703', 'BBa_K809704', 'BBa_K809711', 'BBa_K809712', 'BBa_K809713', 'BBa_K809714', 'BBa_K809715', 'BBa_K809716', 'BBa_K809717', 'BBa_K809718', 'BBa_K809719', 'BBa_K809720', 'BBa_K809721', 'BBa_K809722', 'BBa_K809723', 'BBa_K809724', 'BBa_K1323002', 'BBa_K1891002', 'BBa_K1891014', 'BBa_K1891015', 'BBa_K2036010', 'BBa_K2036011', 'BBa_K2036012', 'BBa_K2036017', 'BBa_K2036018', 'BBa_K2036019', 'BBa_K2036020', 'BBa_K2036021', 'BBa_K2036022', 'BBa_K2036023', 'BBa_K2036024', 'BBa_K2036025', 'BBa_K2036026', 'BBa_K2036027', 'BBa_K2036028', 'BBa_K2036029', 'BBa_K2036030', 'BBa_K2036031', 'BBa_K2036032', 'BBa_K2036033', 'BBa_K809101', 'BBa_K809102', 'BBa_K809103', 'BBa_K809104', 'BBa_K809105']\n"
     ]
    }
   ],
   "source": [
    "f_out = open('f_out', 'w')\n",
    "print(rest)\n",
    "for i in rest:\n",
    "    #print(i)\n",
    "    f_out.write(i)\n",
    "    f_out.write('\\n')\n"
   ]
  },
  {
   "cell_type": "code",
   "execution_count": 208,
   "metadata": {},
   "outputs": [
    {
     "name": "stdout",
     "output_type": "stream",
     "text": [
      "238\n"
     ]
    }
   ],
   "source": [
    "print(len(new))"
   ]
  },
  {
   "cell_type": "code",
   "execution_count": 207,
   "metadata": {},
   "outputs": [
    {
     "name": "stdout",
     "output_type": "stream",
     "text": [
      "[['BBa_K1484215', 'Terminator', 'MP, Arab use']]\n"
     ]
    }
   ],
   "source": [
    "import csv\n",
    "f_csv = open('parts.csv')\n",
    "f = csv.reader(f_csv)\n",
    "output = []\n",
    "for i in new:\n",
    "    for row in f:\n",
    "        #print(row[2])\n",
    "        if (i == row[2]):\n",
    "            temp_n = [i, row[5], row[4]]\n",
    "            output.append(temp_n)\n",
    "print(output)          \n",
    "            "
   ]
  },
  {
   "cell_type": "code",
   "execution_count": 202,
   "metadata": {},
   "outputs": [
    {
     "name": "stdout",
     "output_type": "stream",
     "text": [
      "[[0, 1, 2], [1, 2, 3], [2, 3, 4], [3, 4, 5], [4, 5, 6], [5, 6, 7], [6, 7, 8], [7, 8, 9], [8, 9, 10], [9, 10, 11]]\n"
     ]
    }
   ],
   "source": [
    "l = []\n",
    "for i in range(10):\n",
    "    temp = [i, i+1, i+2]\n",
    "    l.append(temp)\n",
    "print(l)"
   ]
  },
  {
   "cell_type": "code",
   "execution_count": 211,
   "metadata": {},
   "outputs": [
    {
     "name": "stdout",
     "output_type": "stream",
     "text": [
      "530\n"
     ]
    }
   ],
   "source": [
    "print(len(result))"
   ]
  },
  {
   "cell_type": "code",
   "execution_count": 212,
   "metadata": {},
   "outputs": [],
   "source": [
    "import re\n",
    "f_temp = open('team_parts.sql')\n",
    "f_ = open('f_team_parts500.sql', 'w')\n",
    "for i in f_temp.readlines():\n",
    "    match = re.match(r'(.*?),(.*?),(.*?),(.*?)', i)\n",
    "    #print(match[2])\n",
    "    temp = match[3][1:-1:]\n",
    "    #print(temp)\n",
    "    if temp in result:\n",
    "        rest.append(temp)\n",
    "        f_.write(i)\n",
    "f_temp.close()\n",
    "f_.close()"
   ]
  },
  {
   "cell_type": "code",
   "execution_count": 213,
   "metadata": {},
   "outputs": [],
   "source": [
    "import re\n",
    "f_temp = open('team_parts.sql')\n",
    "f_ = open('f_team_parts177.sql', 'w')\n",
    "for i in f_temp.readlines():\n",
    "    match = re.match(r'(.*?),(.*?),(.*?),(.*?)', i)\n",
    "    #print(match[2])\n",
    "    temp = match[3][1:-1:]\n",
    "    #print(temp)\n",
    "    if temp in new:\n",
    "        rest.append(temp)\n",
    "        f_.write(i)\n",
    "f_temp.close()\n",
    "f_.close()"
   ]
  },
  {
   "cell_type": "code",
   "execution_count": 214,
   "metadata": {},
   "outputs": [
    {
     "name": "stdout",
     "output_type": "stream",
     "text": [
      "['BBa_K1484215', 'BBa_K2269002', 'BBa_K2269004', 'BBa_K2269007', 'BBa_K2269008', 'BBa_K2269010', 'BBa_K2269014', 'BBa_K2269016', 'BBa_K2269023', 'BBa_K2269032', 'BBa_K240414', 'BBa_K1362400', 'BBa_K1362401', 'BBa_K2017000', 'BBa_K2017001', 'BBa_K2017003', 'BBa_K2017004', 'BBa_K2017005', 'BBa_K2017006', 'BBa_K2017007', 'BBa_K2017008', 'BBa_K2017009', 'BBa_K2017010', 'BBa_K2017011', 'BBa_K2017012', 'BBa_K2017013', 'BBa_K2017014', 'BBa_K1554006', 'BBa_K1554004', 'BBa_K1554005', 'BBa_K1467203', 'BBa_K1467100', 'BBa_J04450 ', 'BBa_K1467200', 'BBa_K1467300', 'BBa_K1467400', 'BBa_K1467201', 'BBa_K592009 ', 'BBa_K1467202', 'BBa_K592010 ', 'BBa_K1467204', 'BBa_E0040 ', 'BBa_K1467204', 'BBa_K1467203', 'BBa_K1467201', 'BBa_K1467202', 'BBa_K1742006', 'BBa_K1742008', 'BBa_K1742009', 'BBa_K1742010', 'BBa_K1742011', 'BBa_K1742012', 'BBa_K1742013', 'BBa_K1470005', 'BBa_K111370', 'BBa_I0500 ', 'BBa_K111310', 'BBa_K2341100', 'BBa_K1478001', 'BBa_K1478000', 'BBa_K2027048', 'BBa_K2375001', 'BBa_K1484314', 'BBa_K1484315', 'BBa_K1484316', 'BBa_K1484317', 'BBa_K1165014', 'BBa_K1159303', 'BBa_K1159305', 'BBa_K147002\\t', 'BBa_K620000\\t', 'BBa_K2095002', 'BBa_K2148014', 'BBa_K2148015', 'BBa_K2136002', 'BBa_K2136016', 'BBa_K2136017', 'BBa_K2136018', 'BBa_K206000 ', 'BBa_K1891006', 'BBa_K1891007', 'BBa_K1891008', 'BBa_K1891009', 'BBa_K1891010', 'BBa_K1891011', 'BBa_K1891012', 'BBa_K1891013', 'BBa_K195900', 'BBa_K1857001', 'BBa_K1547010', 'BBa_1555000', 'BBa_1555001', 'BBa_1555002', 'BBa_1555003', 'BBa_1555004', 'BBa_1555005', 'BBa_1555006', 'BBa_1555007', 'BBa_1555008', 'BBa_1555009', 'BBa_K809001', 'BBa_K809002', 'BBa_K809004', 'BBa_K809005', 'BBa_K809006', 'BBa_K809008', 'BBa_K809009', 'BBa_K809201', 'BBa_K809202', 'BBa_K809203', 'BBa_K809204', 'BBa_K809205', 'BBa_K809206', 'BBa_K809207', 'BBa_K809406', 'BBa_K809307', 'BBa_K809404', 'BBa_K2384008', 'BBa_K090505', 'BBa_K2505000', 'BBa_K2505003', 'BBa_K1982006', 'BBa_K1982000', 'BBa_K1982005', 'BBa_K1982012', 'BBa_K2036007', 'BBa_K2036008', 'BBa_K2036009', 'BBa_K2036016', 'BBa_K2036013', 'BBa_K2036014', 'BBa_K2036015', 'BBa_S05325', 'BBa_S05333', 'BBa_K1033901', 'BBa_K1033905', 'BBa_K1033909', 'BBa_K1033913', 'BBa_K1033925', 'BBa_K1033206', 'BBa_K1033207', 'BBa_K1033250', 'BBa_K1033120', 'BBa_K1033911', 'BBa_K1033912', 'BBa_K1033922', 'BBa_K1033990', 'BBa_K1165002', 'BBa_K1165003', 'BBa_K1165004', 'BBa_K1165005', 'BBa_K1165009', 'BBa_K1165010', 'BBa_K1165011', 'BBa_K1165012', 'BBa_K1165013', 'BBa_K1165015', 'BBa_K1165017', 'BBa_K1165018', 'BBa_K1165019', 'BBa_K1165020', 'BBa_K1471007', 'BBa_K1471009', 'BBa_K1471011', 'BBa_K1471012', 'BBa_K1537024', 'BBa_K1537029', 'BBa_K1537031', 'BBa_K1645998', 'BBa_R0010) ', 'BBa_I20260 ', 'BBa_I20260', 'BBa_B0010 ', 'BBa_K1783000', 'BBa_K1783001', 'BBa_K1783003', 'BBa_K1879001', 'BBa_K2271021', 'BBa_K2271023', 'BBa_K2271024', 'BBa_K2271016', 'BBa_K2271026', 'BBa_K1159113', 'BBa_K1159114', 'BBa_K1159115', 'BBa_K1159116', 'BBa_K1159117', 'BBa_K1159118', 'BBa_K1159119', 'BBa_K1159120', 'BBa_K1159212', 'BBa_K1159213', 'BBa_K1159214', 'BBa_K1159215', 'BBa_K1159304', 'BBa_K1159308', 'BBa_K1159309', 'BBa_K1159310', 'BBa_K1159317', 'BBa_K863000 ', 'BBa_K157004 ', 'BBa_K2357028', 'BBa_K2357000', 'BBa_K1758100', 'BBa_K1758101', 'BBa_K1758102', 'BBa_K1758105', 'BBa_K1758106', 'BBa_K1758122', 'BBa_K1758201', 'BBa_K1758202', 'BBa_K1758203', 'BBa_K1758204', 'BBa_K1758300', 'BBa_K1758311', 'BBa_K1758312', 'BBa_K1758321', 'BBa_K1758323', 'BBa_K1758331', 'BBa_K1758332', 'BBa_K1758342', 'BBa_K1758350', 'BBa_K1758351', 'BBa_K1758352', 'BBa_K1758353', 'BBa_K1758360', 'BBa_K1758361', 'BBa_K1758370', 'BBa_K1758375', 'BBa_K1758376', 'BBa_R0010 ', 'BBa_K1467100', 'BBa_K1467200', 'BBa_K1467300', 'BBa_K1467400', 'BBa_K1044002', 'BBa_K1044006', 'BBa_K104400']\n"
     ]
    }
   ],
   "source": [
    "print(new)"
   ]
  },
  {
   "cell_type": "code",
   "execution_count": null,
   "metadata": {},
   "outputs": [],
   "source": []
  }
 ],
 "metadata": {
  "kernelspec": {
   "display_name": "Python 3",
   "language": "python",
   "name": "python3"
  },
  "language_info": {
   "codemirror_mode": {
    "name": "ipython",
    "version": 3
   },
   "file_extension": ".py",
   "mimetype": "text/x-python",
   "name": "python",
   "nbconvert_exporter": "python",
   "pygments_lexer": "ipython3",
   "version": "3.6.5"
  }
 },
 "nbformat": 4,
 "nbformat_minor": 2
}
